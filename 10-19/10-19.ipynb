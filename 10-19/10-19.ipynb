{
 "cells": [
  {
   "cell_type": "code",
   "execution_count": 45,
   "id": "17fa810d",
   "metadata": {},
   "outputs": [
    {
     "name": "stdout",
     "output_type": "stream",
     "text": [
      "2780\n"
     ]
    }
   ],
   "source": [
    "import pandas as pd\n",
    "\n",
    "features = ['name','gender','people','year']\n",
    "df = pd.read_table('popular-names.txt',names=features)\n",
    "\n",
    "print(len(df))\n",
    "# 2780"
   ]
  },
  {
   "cell_type": "code",
   "execution_count": 2,
   "id": "ef757f87",
   "metadata": {},
   "outputs": [],
   "source": [
    "# 11.タブをスペースに置換\n",
    "df.to_csv('popular-names_space.txt',sep=' ')"
   ]
  },
  {
   "cell_type": "code",
   "execution_count": 10,
   "id": "cd6fd9af",
   "metadata": {},
   "outputs": [],
   "source": [
    "# 12. 1列目をcol1.txtに，2列目をcol2.txtに保存\n",
    "col1 = df['name']\n",
    "col2 = df['gender']\n",
    "\n",
    "with open('col1.txt','w') as f:\n",
    "    for elem in col1:\n",
    "        f.write(\"%s\\n\" % elem)    \n",
    "\n",
    "with open('col2.txt','w') as g:\n",
    "    for elem in col2:\n",
    "        g.write(\"%s\\n\"% elem)    "
   ]
  },
  {
   "cell_type": "code",
   "execution_count": 27,
   "id": "4916ff38",
   "metadata": {},
   "outputs": [
    {
     "name": "stdout",
     "output_type": "stream",
     "text": [
      "0       F\n",
      "1       F\n",
      "2       F\n",
      "3       F\n",
      "4       F\n",
      "       ..\n",
      "2775    M\n",
      "2776    M\n",
      "2777    M\n",
      "2778    M\n",
      "2779    M\n",
      "Name: gender, Length: 2780, dtype: object\n",
      "           name gender\n",
      "0          Mary      F\n",
      "1          Anna      F\n",
      "2          Emma      F\n",
      "3     Elizabeth      F\n",
      "4        Minnie      F\n",
      "...         ...    ...\n",
      "2775   Benjamin      M\n",
      "2776     Elijah      M\n",
      "2777      Lucas      M\n",
      "2778      Mason      M\n",
      "2779      Logan      M\n",
      "\n",
      "[2780 rows x 2 columns]\n"
     ]
    }
   ],
   "source": [
    "# 13. col1.txtとcol2.txtをマージ\n",
    "df_col1 = pd.read_table('col1.txt',sep='\\n',names=['name'])\n",
    "df_col2 = pd.read_table('col2.txt',sep='\\n',names=['gender'])\n",
    "\n",
    "col1_list = df_col1['name']\n",
    "col2_list = df_col2['gender']\n",
    "\n",
    "df_merge = pd.DataFrame([col1_list,col2_list])\n",
    "df_merge = df_merge.T # 転置しておく\n",
    "print(df_merge)\n",
    "\"\"\"\n",
    "Name: gender, Length: 2780, dtype: object\n",
    "           name gender\n",
    "0          Mary      F\n",
    "1          Anna      F\n",
    "2          Emma      F\n",
    "3     Elizabeth      F\n",
    "4        Minnie      F\n",
    "...         ...    ...\n",
    "2775   Benjamin      M\n",
    "2776     Elijah      M\n",
    "2777      Lucas      M\n",
    "2778      Mason      M\n",
    "2779      Logan      M\n",
    "\n",
    "\"\"\"\n",
    "\n",
    "df_merge.to_csv('col_merge.txt',sep='\\t',index=False) # indexはデフォルトでTrueに設定されているおり、表示しないために変更"
   ]
  },
  {
   "cell_type": "code",
   "execution_count": 29,
   "id": "a2934ae5",
   "metadata": {},
   "outputs": [
    {
     "name": "stdout",
     "output_type": "stream",
     "text": [
      "        name gender  people  year\n",
      "0       Mary      F    7065  1880\n",
      "1       Anna      F    2604  1880\n",
      "2       Emma      F    2003  1880\n",
      "3  Elizabeth      F    1939  1880\n",
      "4     Minnie      F    1746  1880\n",
      "        name gender  people  year\n",
      "0       Mary      F    7065  1880\n",
      "1       Anna      F    2604  1880\n",
      "2       Emma      F    2003  1880\n",
      "3  Elizabeth      F    1939  1880\n",
      "4     Minnie      F    1746  1880\n"
     ]
    },
    {
     "data": {
      "text/plain": [
       "'\\nname gender  people  year\\n0       Mary      F    7065  1880\\n1       Anna      F    2604  1880\\n2       Emma      F    2003  1880\\n3  Elizabeth      F    1939  1880\\n4     Minnie      F    1746  1880\\n'"
      ]
     },
     "execution_count": 29,
     "metadata": {},
     "output_type": "execute_result"
    }
   ],
   "source": [
    "# 14. 先頭からN行を出力\n",
    "# コマンドライン引数をargv[1]などで受け取ったものとする\n",
    "N = 5\n",
    "\n",
    "print(df[0:N])\n",
    "print(df.head(5))\n",
    "\n",
    "# for文でN回readlines()を行い、都度出力する方法などが想定解と思われる\n",
    "\"\"\"\n",
    "name gender  people  year\n",
    "0       Mary      F    7065  1880\n",
    "1       Anna      F    2604  1880\n",
    "2       Emma      F    2003  1880\n",
    "3  Elizabeth      F    1939  1880\n",
    "4     Minnie      F    1746  1880\n",
    "\"\"\""
   ]
  },
  {
   "cell_type": "code",
   "execution_count": 30,
   "id": "abf656ce",
   "metadata": {},
   "outputs": [
    {
     "name": "stdout",
     "output_type": "stream",
     "text": [
      "          name gender  people  year\n",
      "2775  Benjamin      M   13381  2018\n",
      "2776    Elijah      M   12886  2018\n",
      "2777     Lucas      M   12585  2018\n",
      "2778     Mason      M   12435  2018\n",
      "2779     Logan      M   12352  2018\n",
      "          name gender  people  year\n",
      "2775  Benjamin      M   13381  2018\n",
      "2776    Elijah      M   12886  2018\n",
      "2777     Lucas      M   12585  2018\n",
      "2778     Mason      M   12435  2018\n",
      "2779     Logan      M   12352  2018\n"
     ]
    }
   ],
   "source": [
    "# 15. 末尾のN行を出力\n",
    "N = 5\n",
    "\n",
    "print(df[len(df)-N:])\n",
    "print(df.tail(N))\n",
    "\"\"\"\n",
    "          name gender  people  year\n",
    "2775  Benjamin      M   13381  2018\n",
    "2776    Elijah      M   12886  2018\n",
    "2777     Lucas      M   12585  2018\n",
    "2778     Mason      M   12435  2018\n",
    "2779     Logan      M   12352  2018\n",
    "\"\"\""
   ]
  },
  {
   "cell_type": "code",
   "execution_count": 65,
   "id": "35688bb9",
   "metadata": {},
   "outputs": [
    {
     "name": "stdout",
     "output_type": "stream",
     "text": [
      "2780\n",
      "926\n",
      "   name gender  people  year\n",
      "0  Mary      F    7065  1880\n",
      "1  Anna      F    2604  1880\n",
      "2  Emma      F    2003  1880\n",
      "         name gender  people  year\n",
      "926     Doris      F   16298  1926\n",
      "927  Virginia      F   16162  1926\n",
      "928   Mildred      F   13551  1926\n",
      "        name gender  people  year\n",
      "1853   David      M   46366  1972\n",
      "1854    John      M   43181  1972\n",
      "1855  Robert      M   43037  1972\n"
     ]
    }
   ],
   "source": [
    "# 16. ファイルをN分割する\n",
    "# https://www.delftstack.com/ja/howto/python-pandas/split-pandas-dataframe/ (2022/05/04参照)\n",
    "\n",
    "N = 3\n",
    "\n",
    "print(len(df))\n",
    "print(int(len(df)/N))\n",
    "\"\"\"\n",
    "2780\n",
    "926\n",
    "\"\"\"\n",
    "df_list = []\n",
    "\n",
    "for i in range(N):    \n",
    "    df_list.append(df[int(i*len(df)/N) : int((i+1)*len(df)/N)])\n",
    "\n",
    "for elem in df_list:\n",
    "    print(elem.head(3))\n",
    "    \n",
    "\"\"\"\n",
    "   name gender  people  year\n",
    "0  Mary      F    7065  1880\n",
    "1  Anna      F    2604  1880\n",
    "2  Emma      F    2003  1880\n",
    "         name gender  people  year\n",
    "926     Doris      F   16298  1926\n",
    "927  Virginia      F   16162  1926\n",
    "928   Mildred      F   13551  1926\n",
    "        name gender  people  year\n",
    "1853   David      M   46366  1972\n",
    "1854    John      M   43181  1972\n",
    "1855  Robert      M   43037  1972\n",
    "\"\"\"\n",
    "\n",
    "\"\"\"\n",
    "# splitコマンドで行う場合、 -nオプションで5分割可能。\n",
    "# 下記の場合、split/ 以下に分割されたファイルが格納される\n",
    "$ split -n 5 popular-names.txt split/\n",
    "\n",
    "\"\"\""
   ]
  },
  {
   "cell_type": "code",
   "execution_count": 69,
   "id": "f5a8bd52",
   "metadata": {},
   "outputs": [
    {
     "name": "stdout",
     "output_type": "stream",
     "text": [
      "['Patricia', 'Jason', 'Marie', 'Joshua', 'Minnie', 'Melissa', 'Susan', 'Mason', 'Lauren', 'Virginia', 'Frances', 'Alice', 'Linda', 'Liam', 'Henry', 'Megan', 'Gary', 'Angela', 'Lisa', 'Margaret', 'Daniel', 'Jacob', 'Amy', 'Rebecca', 'Kathleen', 'Christopher', 'Barbara', 'Ethan', 'Hannah', 'Karen', 'Lillian', 'Donald', 'John', 'Shirley', 'Heather', 'Mark', 'Joan', 'David', 'Alexander', 'Noah', 'Oliver', 'Larry', 'Sophia', 'Stephanie', 'Sarah', 'Deborah', 'Brandon', 'Carolyn', 'Tracy', 'Olivia', 'Harper', 'Joseph', 'Lori', 'Judith', 'Justin', 'Jayden', 'Florence', 'Carol', 'Mia', 'Jessica', 'Samantha', 'Helen', 'Crystal', 'Rachel', 'Dorothy', 'Isabella', 'Julie', 'Michelle', 'Emily', 'Charles', 'Walter', 'Nicole', 'Amanda', 'Lucas', 'Richard', 'Brittany', 'Amelia', 'Mary', 'Steven', 'Bessie', 'Evelyn', 'Ida', 'Emma', 'Jennifer', 'Taylor', 'Logan', 'Ashley', 'Alexis', 'Harry', 'Nancy', 'Ronald', 'Michael', 'Sharon', 'Andrew', 'Abigail', 'Pamela', 'Kimberly', 'Kelly', 'Betty', 'Annie', 'Matthew', 'Elizabeth', 'Clara', 'Tammy', 'Madison', 'Thomas', 'William', 'Sandra', 'Charlotte', 'Tyler', 'Debra', 'Benjamin', 'James', 'Scott', 'Aiden', 'Robert', 'Doris', 'Frank', 'Ava', 'Austin', 'Cynthia', 'George', 'Anna', 'Donna', 'Chloe', 'Elijah', 'Nicholas', 'Anthony', 'Jeffrey', 'Edward', 'Bertha', 'Ruth', 'Brian', 'Mildred', 'Laura', 'Ethel']\n"
     ]
    }
   ],
   "source": [
    "# 17. １列目の文字列の異なり\n",
    "# https://note.nkmk.me/python-list-duplicate-check/ (2022/05/04 参照)\n",
    "\n",
    "col1 = df['name'] # 1列目\n",
    "col1_list = col1.values.tolist()\n",
    "col1_set = set(col1_list) # setによって重複削除\n",
    "print(list(col1_set))\n",
    "\n",
    "\"\"\"\n",
    "['Patricia', 'Jason', 'Marie', 'Joshua', 'Minnie', 'Melissa', 'Susan', 'Mason', 'Lauren',\n",
    "'Virginia', 'Frances', 'Alice', 'Linda', 'Liam', 'Henry', 'Megan', 'Gary', 'Angela', \n",
    "'Lisa', 'Margaret', 'Daniel', 'Jacob', 'Amy', 'Rebecca', 'Kathleen', 'Christopher', \n",
    "'Barbara', 'Ethan', 'Hannah', 'Karen', 'Lillian', 'Donald', 'John', 'Shirley',\n",
    "'Heather', 'Mark', 'Joan', 'David', 'Alexander', 'Noah', 'Oliver', 'Larry', 'Sophia',\n",
    "'Stephanie', 'Sarah', 'Deborah', 'Brandon', 'Carolyn', 'Tracy', 'Olivia', 'Harper', \n",
    "'Joseph', 'Lori', 'Judith', 'Justin', 'Jayden', 'Florence', 'Carol', 'Mia', 'Jessica',\n",
    "'Samantha', 'Helen', 'Crystal', 'Rachel', 'Dorothy', 'Isabella', 'Julie', 'Michelle',\n",
    "'Emily', 'Charles', 'Walter', 'Nicole', 'Amanda', 'Lucas', 'Richard', 'Brittany',\n",
    "'Amelia', 'Mary', 'Steven', 'Bessie', 'Evelyn', 'Ida', 'Emma', 'Jennifer', 'Taylor',\n",
    "'Logan', 'Ashley', 'Alexis', 'Harry', 'Nancy', 'Ronald', 'Michael', 'Sharon', 'Andrew'\n",
    ", 'Abigail', 'Pamela', 'Kimberly', 'Kelly', 'Betty', 'Annie', 'Matthew', 'Elizabeth',\n",
    "'Clara', 'Tammy', 'Madison', 'Thomas', 'William', 'Sandra', 'Charlotte', 'Tyler',\n",
    "'Debra', 'Benjamin', 'James', 'Scott', 'Aiden', 'Robert', 'Doris', 'Frank', 'Ava', \n",
    "'Austin', 'Cynthia', 'George', 'Anna', 'Donna', 'Chloe', 'Elijah', 'Nicholas', \n",
    "'Anthony', 'Jeffrey', 'Edward', 'Bertha', 'Ruth', 'Brian', 'Mildred', 'Laura', 'Ethel']\n",
    "\"\"\""
   ]
  },
  {
   "cell_type": "code",
   "execution_count": 70,
   "id": "5f173662",
   "metadata": {},
   "outputs": [
    {
     "name": "stdout",
     "output_type": "stream",
     "text": [
      "         name gender  people  year\n",
      "1340    Linda      F   99689  1947\n",
      "1360    Linda      F   96211  1948\n",
      "1350    James      M   94757  1947\n",
      "1550  Michael      M   92704  1957\n",
      "1351   Robert      M   91640  1947\n",
      "      name gender  people  year\n",
      "27   Annie      F    1326  1881\n",
      "28  Bertha      F    1324  1881\n",
      "8   Bertha      F    1320  1880\n",
      "29   Alice      F    1308  1881\n",
      "9    Sarah      F    1288  1880\n"
     ]
    }
   ],
   "source": [
    "# 18. 各行を3コラム目の数値の降順にソート\n",
    "df_s = df.sort_values('people',ascending=False) # ascending=True : 昇順がデフォルト\n",
    "\n",
    "print(df_s.head(5))\n",
    "print(df_s.tail(5))\n",
    "\n",
    "\"\"\"\n",
    "         name gender  people  year\n",
    "1340    Linda      F   99689  1947\n",
    "1360    Linda      F   96211  1948\n",
    "1350    James      M   94757  1947\n",
    "1550  Michael      M   92704  1957\n",
    "1351   Robert      M   91640  1947\n",
    "      name gender  people  year\n",
    "27   Annie      F    1326  1881\n",
    "28  Bertha      F    1324  1881\n",
    "8   Bertha      F    1320  1880\n",
    "29   Alice      F    1308  1881\n",
    "9    Sarah      F    1288  1880\n",
    "\"\"\""
   ]
  },
  {
   "cell_type": "code",
   "execution_count": 85,
   "id": "542571f3",
   "metadata": {},
   "outputs": [
    {
     "name": "stdout",
     "output_type": "stream",
     "text": [
      "[('Mary', 92), ('Anna', 41), ('Emma', 35), ('Elizabeth', 73), ('Minnie', 12), ('Margaret', 60), ('Ida', 8), ('Alice', 10), ('Bertha', 12), ('Sarah', 26), ('John', 108), ('William', 111), ('James', 118), ('Charles', 75), ('George', 58), ('Frank', 43), ('Joseph', 70), ('Thomas', 58), ('Henry', 23), ('Robert', 108), ('Annie', 5), ('Edward', 40), ('Clara', 8), ('Florence', 20), ('Ethel', 16), ('Bessie', 2), ('Harry', 7), ('Helen', 45), ('Ruth', 39), ('Marie', 20), ('Lillian', 4), ('Mildred', 24), ('Dorothy', 36), ('Frances', 15), ('Walter', 1), ('Evelyn', 3), ('Virginia', 13), ('Richard', 51), ('Betty', 24), ('Donald', 20), ('Doris', 10), ('Shirley', 14), ('Barbara', 32), ('Patricia', 38), ('Joan', 9), ('Nancy', 22), ('Carol', 15), ('David', 57), ('Ronald', 10), ('Judith', 8), ('Linda', 26), ('Sandra', 16), ('Carolyn', 1), ('Sharon', 7), ('Michael', 74), ('Susan', 24), ('Donna', 12), ('Larry', 2), ('Kathleen', 4), ('Deborah', 13), ('Gary', 5), ('Karen', 18), ('Debra', 9), ('Pamela', 1), ('Cynthia', 11), ('Mark', 16), ('Steven', 7), ('Lisa', 18), ('Jeffrey', 5), ('Lori', 1), ('Kimberly', 14), ('Tammy', 7), ('Angela', 15), ('Michelle', 15), ('Jennifer', 26), ('Melissa', 18), ('Christopher', 43), ('Brian', 13), ('Amy', 14), ('Laura', 1), ('Tracy', 1), ('Julie', 1), ('Jason', 13), ('Scott', 1), ('Stephanie', 17), ('Heather', 15), ('Nicole', 13), ('Matthew', 37), ('Rebecca', 2), ('Jessica', 25), ('Amanda', 20), ('Daniel', 31), ('Kelly', 1), ('Joshua', 31), ('Crystal', 1), ('Ashley', 23), ('Megan', 3), ('Brittany', 10), ('Andrew', 21), ('Justin', 4), ('Samantha', 19), ('Lauren', 2), ('Emily', 26), ('Brandon', 7), ('Tyler', 9), ('Taylor', 8), ('Nicholas', 10), ('Jacob', 25), ('Hannah', 13), ('Austin', 4), ('Alexis', 8), ('Rachel', 1), ('Madison', 18), ('Abigail', 17), ('Olivia', 18), ('Ethan', 15), ('Anthony', 6), ('Isabella', 15), ('Ava', 14), ('Sophia', 13), ('Chloe', 4), ('Alexander', 8), ('Mia', 10), ('Jayden', 5), ('Noah', 10), ('Aiden', 3), ('Mason', 8), ('Liam', 7), ('Charlotte', 5), ('Harper', 3), ('Benjamin', 4), ('Elijah', 3), ('Amelia', 2), ('Logan', 2), ('Oliver', 2), ('Lucas', 1)]\n",
      "['Mary', 'Anna', 'Emma', 'Elizabeth', 'Minnie', 'Margaret', 'Ida', 'Alice', 'Bertha', 'Sarah', 'John', 'William', 'James', 'Charles', 'George', 'Frank', 'Joseph', 'Thomas', 'Henry', 'Robert', 'Annie', 'Edward', 'Clara', 'Florence', 'Ethel', 'Bessie', 'Harry', 'Helen', 'Ruth', 'Marie', 'Lillian', 'Mildred', 'Dorothy', 'Frances', 'Walter', 'Evelyn', 'Virginia', 'Richard', 'Betty', 'Donald', 'Doris', 'Shirley', 'Barbara', 'Patricia', 'Joan', 'Nancy', 'Carol', 'David', 'Ronald', 'Judith', 'Linda', 'Sandra', 'Carolyn', 'Sharon', 'Michael', 'Susan', 'Donna', 'Larry', 'Kathleen', 'Deborah', 'Gary', 'Karen', 'Debra', 'Pamela', 'Cynthia', 'Mark', 'Steven', 'Lisa', 'Jeffrey', 'Lori', 'Kimberly', 'Tammy', 'Angela', 'Michelle', 'Jennifer', 'Melissa', 'Christopher', 'Brian', 'Amy', 'Laura', 'Tracy', 'Julie', 'Jason', 'Scott', 'Stephanie', 'Heather', 'Nicole', 'Matthew', 'Rebecca', 'Jessica', 'Amanda', 'Daniel', 'Kelly', 'Joshua', 'Crystal', 'Ashley', 'Megan', 'Brittany', 'Andrew', 'Justin', 'Samantha', 'Lauren', 'Emily', 'Brandon', 'Tyler', 'Taylor', 'Nicholas', 'Jacob', 'Hannah', 'Austin', 'Alexis', 'Rachel', 'Madison', 'Abigail', 'Olivia', 'Ethan', 'Anthony', 'Isabella', 'Ava', 'Sophia', 'Chloe', 'Alexander', 'Mia', 'Jayden', 'Noah', 'Aiden', 'Mason', 'Liam', 'Charlotte', 'Harper', 'Benjamin', 'Elijah', 'Amelia', 'Logan', 'Oliver', 'Lucas']\n"
     ]
    }
   ],
   "source": [
    "# 19. 各行の1コラム目の文字列の出現頻度を求め，出現頻度の高い順に並べる\n",
    "# https://note.nkmk.me/python-collections-counter/ (2022/05/04参照)\n",
    "\n",
    "import collections\n",
    "\n",
    "col1 = df['name'] # 1列目\n",
    "col_dict = collections.Counter(col1)\n",
    "col_dict = dict(col_dict)\n",
    "col_list = list(zip(col_dict.keys(),col_dict.values()))\n",
    "col_keys=col_dict.keys()\n",
    "print(col_list) # [('name','frequency')] が表示される\n",
    "print(list(col_keys))\n",
    "\n",
    "\"\"\"\n",
    "['Mary', 'Anna', 'Emma', 'Elizabeth', 'Minnie', 'Margaret', 'Ida', 'Alice', 'Bertha',\n",
    "'Sarah', 'John', 'William', 'James', 'Charles', 'George', 'Frank', 'Joseph', 'Thomas',\n",
    "'Henry', 'Robert', 'Annie', 'Edward', 'Clara', 'Florence', 'Ethel', 'Bessie', 'Harry',\n",
    "'Helen', 'Ruth', 'Marie', 'Lillian', 'Mildred', 'Dorothy', 'Frances', 'Walter', \n",
    "'Evelyn', 'Virginia', 'Richard', 'Betty', 'Donald', 'Doris', 'Shirley', 'Barbara', \n",
    "'Patricia', 'Joan', 'Nancy', 'Carol', 'David', 'Ronald', 'Judith', 'Linda', 'Sandra',\n",
    "'Carolyn', 'Sharon', 'Michael', 'Susan', 'Donna', 'Larry', 'Kathleen', 'Deborah', \n",
    "'Gary', 'Karen', 'Debra', 'Pamela', 'Cynthia', 'Mark', 'Steven', 'Lisa', 'Jeffrey', \n",
    "'Lori', 'Kimberly', 'Tammy', 'Angela', 'Michelle', 'Jennifer', 'Melissa', 'Christopher',\n",
    "'Brian', 'Amy', 'Laura', 'Tracy', 'Julie', 'Jason', 'Scott', 'Stephanie', 'Heather',\n",
    "'Nicole', 'Matthew', 'Rebecca', 'Jessica', 'Amanda', 'Daniel', 'Kelly', 'Joshua', \n",
    "'Crystal', 'Ashley', 'Megan', 'Brittany', 'Andrew', 'Justin', 'Samantha', 'Lauren',\n",
    "'Emily', 'Brandon', 'Tyler', 'Taylor', 'Nicholas', 'Jacob', 'Hannah', 'Austin', \n",
    "'Alexis', 'Rachel', 'Madison', 'Abigail', 'Olivia', 'Ethan', 'Anthony', 'Isabella', \n",
    "'Ava', 'Sophia', 'Chloe', 'Alexander', 'Mia', 'Jayden', 'Noah', 'Aiden', 'Mason',\n",
    "'Liam', 'Charlotte', 'Harper', 'Benjamin', 'Elijah', 'Amelia', 'Logan', 'Oliver', 'Lucas']\n",
    "\"\"\""
   ]
  }
 ],
 "metadata": {
  "kernelspec": {
   "display_name": "Python 3",
   "language": "python",
   "name": "python3"
  },
  "language_info": {
   "codemirror_mode": {
    "name": "ipython",
    "version": 3
   },
   "file_extension": ".py",
   "mimetype": "text/x-python",
   "name": "python",
   "nbconvert_exporter": "python",
   "pygments_lexer": "ipython3",
   "version": "3.8.8"
  }
 },
 "nbformat": 4,
 "nbformat_minor": 5
}
